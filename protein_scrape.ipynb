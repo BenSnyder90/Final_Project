{
 "cells": [
  {
   "cell_type": "code",
   "execution_count": 1,
   "metadata": {},
   "outputs": [],
   "source": [
    "from bs4 import BeautifulSoup\n",
    "import requests"
   ]
  },
  {
   "cell_type": "code",
   "execution_count": 2,
   "metadata": {},
   "outputs": [],
   "source": [
    "url = f\"https://www.uniprot.org/uniprot/O14786\"\n",
    "response = requests.get(url)"
   ]
  },
  {
   "cell_type": "code",
   "execution_count": 4,
   "metadata": {},
   "outputs": [],
   "source": [
    "soup = BeautifulSoup(response.text, 'lxml')"
   ]
  },
  {
   "cell_type": "code",
   "execution_count": 25,
   "metadata": {},
   "outputs": [],
   "source": [
    "protein_name = soup.find(\"div\", id=\"content-protein\").find(\"h1\").text"
   ]
  },
  {
   "cell_type": "code",
   "execution_count": 26,
   "metadata": {},
   "outputs": [
    {
     "output_type": "execute_result",
     "data": {
      "text/plain": "'Neuropilin-1'"
     },
     "metadata": {},
     "execution_count": 26
    }
   ],
   "source": [
    "protein_name"
   ]
  },
  {
   "cell_type": "code",
   "execution_count": 27,
   "metadata": {},
   "outputs": [],
   "source": [
    "gene = soup.find(\"div\", id=\"content-gene\").find(\"h2\").text"
   ]
  },
  {
   "cell_type": "code",
   "execution_count": 28,
   "metadata": {},
   "outputs": [
    {
     "output_type": "execute_result",
     "data": {
      "text/plain": "'NRP1'"
     },
     "metadata": {},
     "execution_count": 28
    }
   ],
   "source": [
    "gene"
   ]
  },
  {
   "cell_type": "code",
   "execution_count": 29,
   "metadata": {},
   "outputs": [],
   "source": [
    "function_text = soup.find(\"div\", class_=\"annotation\").find(\"span\").text"
   ]
  },
  {
   "cell_type": "code",
   "execution_count": 30,
   "metadata": {},
   "outputs": [
    {
     "output_type": "execute_result",
     "data": {
      "text/plain": "'Receptor involved in the development of the cardiovascular system, in angiogenesis, in the formation of certain neuronal circuits and in organogenesis outside the nervous system. It mediates the chemorepulsant activity of semaphorins (PubMed:9288753, PubMed:9529250, PubMed:10688880). It binds to semaphorin 3A, The PLGF-2 isoform of PGF, The VEGF165 isoform of VEGFA and VEGFB (PubMed:9288753, PubMed:9529250, PubMed:10688880). Coexpression with KDR results in increased VEGF165 binding to KDR as well as increased chemotaxis. Regulates VEGF-induced angiogenesis. Binding to VEGFA initiates a signaling pathway needed for motor neuron axon guidance and cell body migration, including for the caudal migration of facial motor neurons from rhombomere 4 to rhombomere 6 during embryonic development (By similarity). Regulates mitochondrial iron transport via interaction with ABCB8/MITOSUR (PubMed:30623799).By similarity\\r\\n                                    <p>Manually curated information which has been propagated from a related experimentally characterized protein.</p>\\r\\n\\r\\n<p><a href=\"/manual/evidences#ECO:0000250\">More...</a></p>\\r\\n                                Manual assertion inferred from sequence similarity toiUniProtKB:P97333\\xa0(NRP1_MOUSE)4 Publications\\r\\n                                    <p>Manually curated information for which there is published experimental evidence.</p>\\r\\n\\r\\n<p><a href=\"/manual/evidences#ECO:0000269\">More...</a></p>\\r\\n                                Manual assertion based on experiment iniRef.1\"Neuropilin is a receptor for the axonal chemorepellent semaphorin III.\"He Z., Tessier-Lavigne M.Cell 90:739-751(1997)  [PubMed] [Europe PMC] [Abstract]Cited for: NUCLEOTIDE SEQUENCE [MRNA] (ISOFORM 1), FUNCTION, VARIANT ALA-179.Ref.2\"Neuropilin-1 is expressed by endothelial and tumor cells as an isoform-specific receptor for vascular endothelial growth factor.\"Soker S., Takashima S., Miao H.-Q., Neufeld G., Klagsbrun M.Cell 92:735-745(1998)  [PubMed] [Europe PMC] [Abstract]Cited for: NUCLEOTIDE SEQUENCE [MRNA] (ISOFORM 1), FUNCTION, PROTEIN SEQUENCE OF 22-39, VARIANT ALA-179.Ref.3\"Identification of a natural soluble neuropilin-1 that binds vascular endothelial growth factor: in vivo expression and antitumor activity.\"Gagnon M.L., Bielenberg D.R., Gechtman Z., Miao H.-Q., Takashima S., Soker S., Klagsbrun M.Proc. Natl. Acad. Sci. U.S.A. 97:2573-2578(2000)  [PubMed] [Europe PMC] [Abstract]Cited for: NUCLEOTIDE SEQUENCE [MRNA] (ISOFORM 2), FUNCTION, PROTEIN SEQUENCE OF 22-31, VARIANT ALA-179.Ref.18\"Neuropilin-1 Controls Endothelial Homeostasis by Regulating Mitochondrial Function and Iron-Dependent Oxidative Stress.\"Issitt T., Bosseboeuf E., De Winter N., Dufton N., Gestri G., Senatore V., Chikh A., Randi A.M., Raimondi C.IScience 11:205-223(2019)  [PubMed] [Europe PMC] [Abstract]Cited for: FUNCTION, SUBUNIT, SUBCELLULAR LOCATION.'"
     },
     "metadata": {},
     "execution_count": 30
    }
   ],
   "source": [
    "function_text"
   ]
  },
  {
   "cell_type": "code",
   "execution_count": null,
   "metadata": {},
   "outputs": [],
   "source": []
  }
 ],
 "metadata": {
  "language_info": {
   "codemirror_mode": {
    "name": "ipython",
    "version": 3
   },
   "file_extension": ".py",
   "mimetype": "text/x-python",
   "name": "python",
   "nbconvert_exporter": "python",
   "pygments_lexer": "ipython3",
   "version": 3
  },
  "orig_nbformat": 2,
  "kernelspec": {
   "name": "python_defaultSpec_1594336649934",
   "display_name": "Python 3.7.7 64-bit ('PythonData': conda)"
  }
 },
 "nbformat": 4,
 "nbformat_minor": 2
}