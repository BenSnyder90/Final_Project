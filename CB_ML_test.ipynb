{
 "cells": [
  {
   "cell_type": "code",
   "execution_count": 5,
   "metadata": {},
   "outputs": [],
   "source": [
    "import pandas as pd\n",
    "import matplotlib.pyplot as plt"
   ]
  },
  {
   "cell_type": "markdown",
   "metadata": {},
   "source": [
    "## Merge data sets"
   ]
  },
  {
   "cell_type": "code",
   "execution_count": 6,
   "metadata": {},
   "outputs": [
    {
     "output_type": "execute_result",
     "data": {
      "text/plain": "    SampleID     O00533    O14786    O15031     O75015    O75023     O95445  \\\n0         A1  12.956143  3.729709  2.086122  11.609629  0.724192   8.542624   \n1         A2  11.269477  6.144801  1.483985  17.582141  3.329488  10.395668   \n2         A3  25.451070  6.950510  1.228214  10.494904  4.392219  14.669500   \n3         A4  14.453038  3.725393  3.278853  14.969670  1.132330  16.194933   \n4         A5   7.628712  7.198343  4.989030  13.087540  1.237068  15.074472   \n..       ...        ...       ...       ...        ...       ...        ...   \n151      B75  13.024688  3.918886  3.163334  11.961131  1.396265   7.350203   \n152      B76  12.651836  9.767998  3.262239  14.746187  4.040677  13.739613   \n153      B77   9.975178  8.553449  4.280947   9.935137 -1.353013  14.539348   \n154      B78  12.819363  6.103985  3.618611   5.405530  1.842243   2.258826   \n155      B79  10.502865  8.934641  3.103524  15.255418  2.725858  11.361016   \n\n        P00441    P00915    P01033  ...    P98073    P01229    P53539  \\\n0     9.452978  7.795929  3.116308  ...  1.640175  1.187713  3.843168   \n1     7.704559  6.388902  0.793348  ...  1.433037  2.068403  2.972200   \n2    11.206255  1.333532  3.839500  ...  2.514728  0.530500  0.803449   \n3    12.066842 -0.580701  4.565457  ...  4.953789  1.588413  1.929322   \n4     2.201737  2.005555  4.600080  ...  1.292394  1.370663  2.180779   \n..         ...       ...       ...  ...       ...       ...       ...   \n151  19.334173  2.183027  4.348268  ...  3.605572  2.263226  3.107379   \n152   8.324083 -0.940497  2.920415  ...  4.861764  1.012678  2.734845   \n153  18.308870  3.671944  4.036374  ...  7.561058  2.832326  6.894978   \n154  13.683191  2.474751  4.637519  ...  1.430722  2.790248  5.766232   \n155  14.116642  3.870924  0.267596  ...  6.442490  0.871766  4.424724   \n\n        P27797  P49763-3  Subject  Treatment    Site      Time   Project  \n0     1.278116  2.457126      ID1  Untreated  Site_D  Baseline  20200001  \n1     4.908331  3.756646      ID1  Untreated  Site_D    Week.6  20200001  \n2     5.720805  2.195161      ID1  Untreated  Site_D   Week.12  20200001  \n3     6.883288  2.552394      ID2  Untreated  Site_C  Baseline  20200001  \n4    13.823078  1.381204      ID2  Untreated  Site_C    Week.6  20200001  \n..         ...       ...      ...        ...     ...       ...       ...  \n151  11.549792  4.065760     ID51  Untreated  Site_A    Week.6  20200001  \n152   7.009428  3.234534     ID51  Untreated  Site_A   Week.12  20200001  \n153   9.119377  1.562843     ID52    Treated  Site_B  Baseline  20200001  \n154   6.157426  1.856033     ID52    Treated  Site_B    Week.6  20200001  \n155   4.414578  3.291130     ID52    Treated  Site_B   Week.12  20200001  \n\n[156 rows x 1110 columns]",
      "text/html": "<div>\n<style scoped>\n    .dataframe tbody tr th:only-of-type {\n        vertical-align: middle;\n    }\n\n    .dataframe tbody tr th {\n        vertical-align: top;\n    }\n\n    .dataframe thead th {\n        text-align: right;\n    }\n</style>\n<table border=\"1\" class=\"dataframe\">\n  <thead>\n    <tr style=\"text-align: right;\">\n      <th></th>\n      <th>SampleID</th>\n      <th>O00533</th>\n      <th>O14786</th>\n      <th>O15031</th>\n      <th>O75015</th>\n      <th>O75023</th>\n      <th>O95445</th>\n      <th>P00441</th>\n      <th>P00915</th>\n      <th>P01033</th>\n      <th>...</th>\n      <th>P98073</th>\n      <th>P01229</th>\n      <th>P53539</th>\n      <th>P27797</th>\n      <th>P49763-3</th>\n      <th>Subject</th>\n      <th>Treatment</th>\n      <th>Site</th>\n      <th>Time</th>\n      <th>Project</th>\n    </tr>\n  </thead>\n  <tbody>\n    <tr>\n      <td>0</td>\n      <td>A1</td>\n      <td>12.956143</td>\n      <td>3.729709</td>\n      <td>2.086122</td>\n      <td>11.609629</td>\n      <td>0.724192</td>\n      <td>8.542624</td>\n      <td>9.452978</td>\n      <td>7.795929</td>\n      <td>3.116308</td>\n      <td>...</td>\n      <td>1.640175</td>\n      <td>1.187713</td>\n      <td>3.843168</td>\n      <td>1.278116</td>\n      <td>2.457126</td>\n      <td>ID1</td>\n      <td>Untreated</td>\n      <td>Site_D</td>\n      <td>Baseline</td>\n      <td>20200001</td>\n    </tr>\n    <tr>\n      <td>1</td>\n      <td>A2</td>\n      <td>11.269477</td>\n      <td>6.144801</td>\n      <td>1.483985</td>\n      <td>17.582141</td>\n      <td>3.329488</td>\n      <td>10.395668</td>\n      <td>7.704559</td>\n      <td>6.388902</td>\n      <td>0.793348</td>\n      <td>...</td>\n      <td>1.433037</td>\n      <td>2.068403</td>\n      <td>2.972200</td>\n      <td>4.908331</td>\n      <td>3.756646</td>\n      <td>ID1</td>\n      <td>Untreated</td>\n      <td>Site_D</td>\n      <td>Week.6</td>\n      <td>20200001</td>\n    </tr>\n    <tr>\n      <td>2</td>\n      <td>A3</td>\n      <td>25.451070</td>\n      <td>6.950510</td>\n      <td>1.228214</td>\n      <td>10.494904</td>\n      <td>4.392219</td>\n      <td>14.669500</td>\n      <td>11.206255</td>\n      <td>1.333532</td>\n      <td>3.839500</td>\n      <td>...</td>\n      <td>2.514728</td>\n      <td>0.530500</td>\n      <td>0.803449</td>\n      <td>5.720805</td>\n      <td>2.195161</td>\n      <td>ID1</td>\n      <td>Untreated</td>\n      <td>Site_D</td>\n      <td>Week.12</td>\n      <td>20200001</td>\n    </tr>\n    <tr>\n      <td>3</td>\n      <td>A4</td>\n      <td>14.453038</td>\n      <td>3.725393</td>\n      <td>3.278853</td>\n      <td>14.969670</td>\n      <td>1.132330</td>\n      <td>16.194933</td>\n      <td>12.066842</td>\n      <td>-0.580701</td>\n      <td>4.565457</td>\n      <td>...</td>\n      <td>4.953789</td>\n      <td>1.588413</td>\n      <td>1.929322</td>\n      <td>6.883288</td>\n      <td>2.552394</td>\n      <td>ID2</td>\n      <td>Untreated</td>\n      <td>Site_C</td>\n      <td>Baseline</td>\n      <td>20200001</td>\n    </tr>\n    <tr>\n      <td>4</td>\n      <td>A5</td>\n      <td>7.628712</td>\n      <td>7.198343</td>\n      <td>4.989030</td>\n      <td>13.087540</td>\n      <td>1.237068</td>\n      <td>15.074472</td>\n      <td>2.201737</td>\n      <td>2.005555</td>\n      <td>4.600080</td>\n      <td>...</td>\n      <td>1.292394</td>\n      <td>1.370663</td>\n      <td>2.180779</td>\n      <td>13.823078</td>\n      <td>1.381204</td>\n      <td>ID2</td>\n      <td>Untreated</td>\n      <td>Site_C</td>\n      <td>Week.6</td>\n      <td>20200001</td>\n    </tr>\n    <tr>\n      <td>...</td>\n      <td>...</td>\n      <td>...</td>\n      <td>...</td>\n      <td>...</td>\n      <td>...</td>\n      <td>...</td>\n      <td>...</td>\n      <td>...</td>\n      <td>...</td>\n      <td>...</td>\n      <td>...</td>\n      <td>...</td>\n      <td>...</td>\n      <td>...</td>\n      <td>...</td>\n      <td>...</td>\n      <td>...</td>\n      <td>...</td>\n      <td>...</td>\n      <td>...</td>\n      <td>...</td>\n    </tr>\n    <tr>\n      <td>151</td>\n      <td>B75</td>\n      <td>13.024688</td>\n      <td>3.918886</td>\n      <td>3.163334</td>\n      <td>11.961131</td>\n      <td>1.396265</td>\n      <td>7.350203</td>\n      <td>19.334173</td>\n      <td>2.183027</td>\n      <td>4.348268</td>\n      <td>...</td>\n      <td>3.605572</td>\n      <td>2.263226</td>\n      <td>3.107379</td>\n      <td>11.549792</td>\n      <td>4.065760</td>\n      <td>ID51</td>\n      <td>Untreated</td>\n      <td>Site_A</td>\n      <td>Week.6</td>\n      <td>20200001</td>\n    </tr>\n    <tr>\n      <td>152</td>\n      <td>B76</td>\n      <td>12.651836</td>\n      <td>9.767998</td>\n      <td>3.262239</td>\n      <td>14.746187</td>\n      <td>4.040677</td>\n      <td>13.739613</td>\n      <td>8.324083</td>\n      <td>-0.940497</td>\n      <td>2.920415</td>\n      <td>...</td>\n      <td>4.861764</td>\n      <td>1.012678</td>\n      <td>2.734845</td>\n      <td>7.009428</td>\n      <td>3.234534</td>\n      <td>ID51</td>\n      <td>Untreated</td>\n      <td>Site_A</td>\n      <td>Week.12</td>\n      <td>20200001</td>\n    </tr>\n    <tr>\n      <td>153</td>\n      <td>B77</td>\n      <td>9.975178</td>\n      <td>8.553449</td>\n      <td>4.280947</td>\n      <td>9.935137</td>\n      <td>-1.353013</td>\n      <td>14.539348</td>\n      <td>18.308870</td>\n      <td>3.671944</td>\n      <td>4.036374</td>\n      <td>...</td>\n      <td>7.561058</td>\n      <td>2.832326</td>\n      <td>6.894978</td>\n      <td>9.119377</td>\n      <td>1.562843</td>\n      <td>ID52</td>\n      <td>Treated</td>\n      <td>Site_B</td>\n      <td>Baseline</td>\n      <td>20200001</td>\n    </tr>\n    <tr>\n      <td>154</td>\n      <td>B78</td>\n      <td>12.819363</td>\n      <td>6.103985</td>\n      <td>3.618611</td>\n      <td>5.405530</td>\n      <td>1.842243</td>\n      <td>2.258826</td>\n      <td>13.683191</td>\n      <td>2.474751</td>\n      <td>4.637519</td>\n      <td>...</td>\n      <td>1.430722</td>\n      <td>2.790248</td>\n      <td>5.766232</td>\n      <td>6.157426</td>\n      <td>1.856033</td>\n      <td>ID52</td>\n      <td>Treated</td>\n      <td>Site_B</td>\n      <td>Week.6</td>\n      <td>20200001</td>\n    </tr>\n    <tr>\n      <td>155</td>\n      <td>B79</td>\n      <td>10.502865</td>\n      <td>8.934641</td>\n      <td>3.103524</td>\n      <td>15.255418</td>\n      <td>2.725858</td>\n      <td>11.361016</td>\n      <td>14.116642</td>\n      <td>3.870924</td>\n      <td>0.267596</td>\n      <td>...</td>\n      <td>6.442490</td>\n      <td>0.871766</td>\n      <td>4.424724</td>\n      <td>4.414578</td>\n      <td>3.291130</td>\n      <td>ID52</td>\n      <td>Treated</td>\n      <td>Site_B</td>\n      <td>Week.12</td>\n      <td>20200001</td>\n    </tr>\n  </tbody>\n</table>\n<p>156 rows × 1110 columns</p>\n</div>"
     },
     "metadata": {},
     "execution_count": 6
    }
   ],
   "source": [
    "df = pd.read_csv(\"Resources/NPX_data1_merged.csv\")\n",
    "df"
   ]
  },
  {
   "cell_type": "markdown",
   "metadata": {},
   "source": [
    "## Make scatter plots"
   ]
  },
  {
   "cell_type": "code",
   "execution_count": 7,
   "metadata": {
    "tags": []
   },
   "outputs": [
    {
     "output_type": "error",
     "ename": "NameError",
     "evalue": "name 'cardiometabolic_df_dropped' is not defined",
     "traceback": [
      "\u001b[1;31m---------------------------------------------------------------------------\u001b[0m",
      "\u001b[1;31mNameError\u001b[0m                                 Traceback (most recent call last)",
      "\u001b[1;32m<ipython-input-7-f6581085b882>\u001b[0m in \u001b[0;36m<module>\u001b[1;34m\u001b[0m\n\u001b[1;32m----> 1\u001b[1;33m \u001b[0mdf\u001b[0m \u001b[1;33m=\u001b[0m \u001b[0mcardiometabolic_df_dropped\u001b[0m\u001b[1;33m.\u001b[0m\u001b[0mreset_index\u001b[0m\u001b[1;33m(\u001b[0m\u001b[1;33m)\u001b[0m\u001b[1;33m\u001b[0m\u001b[1;33m\u001b[0m\u001b[0m\n\u001b[0m\u001b[0;32m      2\u001b[0m \u001b[0mdf\u001b[0m\u001b[1;33m.\u001b[0m\u001b[0mcolumns\u001b[0m\u001b[1;33m\u001b[0m\u001b[1;33m\u001b[0m\u001b[0m\n\u001b[0;32m      3\u001b[0m \u001b[0mx_values\u001b[0m \u001b[1;33m=\u001b[0m \u001b[0mdf\u001b[0m\u001b[1;33m.\u001b[0m\u001b[0miloc\u001b[0m\u001b[1;33m[\u001b[0m\u001b[1;33m:\u001b[0m\u001b[1;33m,\u001b[0m\u001b[1;36m0\u001b[0m\u001b[1;33m]\u001b[0m\u001b[1;33m\u001b[0m\u001b[1;33m\u001b[0m\u001b[0m\n\u001b[0;32m      4\u001b[0m \u001b[0my_values\u001b[0m \u001b[1;33m=\u001b[0m \u001b[0mdf\u001b[0m\u001b[1;33m.\u001b[0m\u001b[0miloc\u001b[0m\u001b[1;33m[\u001b[0m\u001b[1;33m:\u001b[0m\u001b[1;33m,\u001b[0m\u001b[1;36m1\u001b[0m\u001b[1;33m]\u001b[0m\u001b[1;33m.\u001b[0m\u001b[0mastype\u001b[0m\u001b[1;33m(\u001b[0m\u001b[0mfloat\u001b[0m\u001b[1;33m)\u001b[0m\u001b[1;33m\u001b[0m\u001b[1;33m\u001b[0m\u001b[0m\n\u001b[0;32m      5\u001b[0m \u001b[0mprint\u001b[0m\u001b[1;33m(\u001b[0m\u001b[0mx_values\u001b[0m\u001b[1;33m.\u001b[0m\u001b[0mshape\u001b[0m\u001b[1;33m,\u001b[0m \u001b[0my_values\u001b[0m\u001b[1;33m.\u001b[0m\u001b[0mshape\u001b[0m\u001b[1;33m)\u001b[0m\u001b[1;33m\u001b[0m\u001b[1;33m\u001b[0m\u001b[0m\n",
      "\u001b[1;31mNameError\u001b[0m: name 'cardiometabolic_df_dropped' is not defined"
     ]
    }
   ],
   "source": [
    "\n",
    "df = cardiometabolic_df_dropped.reset_index()\n",
    "df.columns\n",
    "x_values = df.iloc[:,0]\n",
    "y_values = df.iloc[:,1].astype(float)\n",
    "print(x_values.shape, y_values.shape)"
   ]
  },
  {
   "cell_type": "code",
   "execution_count": 8,
   "metadata": {
    "tags": []
   },
   "outputs": [
    {
     "output_type": "error",
     "ename": "NameError",
     "evalue": "name 'x_values' is not defined",
     "traceback": [
      "\u001b[1;31m---------------------------------------------------------------------------\u001b[0m",
      "\u001b[1;31mNameError\u001b[0m                                 Traceback (most recent call last)",
      "\u001b[1;32m<ipython-input-8-204aa3fcc5c1>\u001b[0m in \u001b[0;36m<module>\u001b[1;34m\u001b[0m\n\u001b[1;32m----> 1\u001b[1;33m \u001b[0mprint\u001b[0m\u001b[1;33m(\u001b[0m\u001b[0mx_values\u001b[0m\u001b[1;33m.\u001b[0m\u001b[0mvalues\u001b[0m\u001b[1;33m)\u001b[0m\u001b[1;33m\u001b[0m\u001b[1;33m\u001b[0m\u001b[0m\n\u001b[0m\u001b[0;32m      2\u001b[0m \u001b[0mprint\u001b[0m\u001b[1;33m(\u001b[0m\u001b[0my_values\u001b[0m\u001b[1;33m.\u001b[0m\u001b[0mvalues\u001b[0m\u001b[1;33m)\u001b[0m\u001b[1;33m\u001b[0m\u001b[1;33m\u001b[0m\u001b[0m\n",
      "\u001b[1;31mNameError\u001b[0m: name 'x_values' is not defined"
     ]
    }
   ],
   "source": [
    "print(x_values.values)\n",
    "print(y_values.values)"
   ]
  },
  {
   "cell_type": "code",
   "execution_count": 9,
   "metadata": {},
   "outputs": [
    {
     "output_type": "error",
     "ename": "NameError",
     "evalue": "name 'x_values' is not defined",
     "traceback": [
      "\u001b[1;31m---------------------------------------------------------------------------\u001b[0m",
      "\u001b[1;31mNameError\u001b[0m                                 Traceback (most recent call last)",
      "\u001b[1;32m<ipython-input-9-fb79e7e576be>\u001b[0m in \u001b[0;36m<module>\u001b[1;34m\u001b[0m\n\u001b[1;32m----> 1\u001b[1;33m \u001b[0mplt\u001b[0m\u001b[1;33m.\u001b[0m\u001b[0mscatter\u001b[0m\u001b[1;33m(\u001b[0m\u001b[0mx\u001b[0m\u001b[1;33m=\u001b[0m\u001b[0mx_values\u001b[0m\u001b[1;33m.\u001b[0m\u001b[0mvalues\u001b[0m\u001b[1;33m,\u001b[0m \u001b[0my\u001b[0m\u001b[1;33m=\u001b[0m\u001b[0my_values\u001b[0m\u001b[1;33m.\u001b[0m\u001b[0mvalues\u001b[0m\u001b[1;33m,\u001b[0m\u001b[0ms\u001b[0m\u001b[1;33m=\u001b[0m\u001b[1;36m10\u001b[0m\u001b[1;33m)\u001b[0m\u001b[1;33m\u001b[0m\u001b[1;33m\u001b[0m\u001b[0m\n\u001b[0m\u001b[0;32m      2\u001b[0m \u001b[0mplt\u001b[0m\u001b[1;33m.\u001b[0m\u001b[0mylim\u001b[0m\u001b[1;33m(\u001b[0m\u001b[1;33m-\u001b[0m\u001b[1;36m10\u001b[0m\u001b[1;33m,\u001b[0m \u001b[1;36m30\u001b[0m\u001b[1;33m)\u001b[0m\u001b[1;33m\u001b[0m\u001b[1;33m\u001b[0m\u001b[0m\n\u001b[0;32m      3\u001b[0m \u001b[0mplt\u001b[0m\u001b[1;33m.\u001b[0m\u001b[0mshow\u001b[0m\u001b[1;33m(\u001b[0m\u001b[0mblock\u001b[0m\u001b[1;33m=\u001b[0m\u001b[1;32mTrue\u001b[0m\u001b[1;33m)\u001b[0m\u001b[1;33m\u001b[0m\u001b[1;33m\u001b[0m\u001b[0m\n",
      "\u001b[1;31mNameError\u001b[0m: name 'x_values' is not defined"
     ]
    }
   ],
   "source": [
    "plt.scatter(x=x_values.values, y=y_values.values,s=10)\n",
    "plt.ylim(-10, 30)\n",
    "plt.show(block=True)"
   ]
  },
  {
   "cell_type": "code",
   "execution_count": null,
   "metadata": {},
   "outputs": [],
   "source": []
  }
 ],
 "metadata": {
  "language_info": {
   "codemirror_mode": {
    "name": "ipython",
    "version": 3
   },
   "file_extension": ".py",
   "mimetype": "text/x-python",
   "name": "python",
   "nbconvert_exporter": "python",
   "pygments_lexer": "ipython3",
   "version": 3
  },
  "orig_nbformat": 2,
  "kernelspec": {
   "name": "python_defaultSpec_1594343101504",
   "display_name": "Python 3.7.7 64-bit ('PythonData': conda)"
  }
 },
 "nbformat": 4,
 "nbformat_minor": 2
}