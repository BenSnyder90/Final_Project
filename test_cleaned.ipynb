{
 "cells": [
  {
   "cell_type": "code",
   "execution_count": 2,
   "metadata": {},
   "outputs": [],
   "source": [
    "import pandas as pd\n",
    "import matplotlib.pyplot as plt"
   ]
  },
  {
   "cell_type": "code",
   "execution_count": 3,
   "metadata": {},
   "outputs": [],
   "source": [
    "file = \"NPX_data1.xlsx\"\n",
    "df = pd.read_excel(file, skiprows=1)\n"
   ]
  },
  {
   "cell_type": "code",
   "execution_count": 4,
   "metadata": {},
   "outputs": [],
   "source": [
    "df_indexed = df.set_index(\"NPX Data\")\n",
    "df_cleaned = df_indexed.iloc[:, 0:1104]\n",
    "col_len = len(df_cleaned.columns)"
   ]
  },
  {
   "cell_type": "code",
   "execution_count": 5,
   "metadata": {},
   "outputs": [],
   "source": [
    "for x in range(col_len):\n",
    "    df_cleaned.iloc[0][x] = df_cleaned.iloc[0][x].split(\"Olink \")[1]"
   ]
  },
  {
   "cell_type": "code",
   "execution_count": 6,
   "metadata": {},
   "outputs": [],
   "source": [
    "type_of_panels = int(col_len / 92)\n",
    "by_types_arr = []\n",
    "a = 0\n",
    "i = 92\n",
    "m = 92\n",
    "for y in range(type_of_panels):\n",
    "    panel = df_cleaned.iloc[0,a]\n",
    "    panel_type = df_cleaned.iloc[:,a:i]\n",
    "    by_types_arr.append(panel_type)\n",
    "    a = a + m\n",
    "    i = i + m\n",
    "    panel_type.to_csv(f'Resources/data1_{panel}.csv')"
   ]
  },
  {
   "cell_type": "code",
   "execution_count": 7,
   "metadata": {},
   "outputs": [],
   "source": [
    "cardiometabolic_df = pd.read_csv(\"Resources/data1_CARDIOMETABOLIC.csv\", skiprows=3)"
   ]
  },
  {
   "cell_type": "code",
   "execution_count": 8,
   "metadata": {},
   "outputs": [],
   "source": [
    "cardiometabolic_df_cleaned = cardiometabolic_df.dropna()\n",
    "cardiometabolic_df_cleaned = cardiometabolic_df_cleaned.rename(columns={\"Uniprot ID\":\"SampleID\"})\n",
    "cardiometabolic_df_cleaned = cardiometabolic_df_cleaned.set_index(\"SampleID\")\n",
    "cardiometabolic_df_dropped = cardiometabolic_df_cleaned.drop([\"OlinkID\", \"CONTROL_SAMPLE_AS 1\", \"CONTROL_SAMPLE_AS 2\", \"LOD\", \"Missing Data freq.\"])"
   ]
  },
  {
   "cell_type": "code",
   "execution_count": 9,
   "metadata": {},
   "outputs": [],
   "source": [
    "sampleID = cardiometabolic_df_dropped.index\n",
    "baseline_sam = []\n",
    "week6_sam = []\n",
    "week12_sam = []\n",
    "sample_num = len(sampleID)"
   ]
  },
  {
   "cell_type": "code",
   "execution_count": 10,
   "metadata": {},
   "outputs": [],
   "source": [
    "b = 0\n",
    "s = 1\n",
    "t = 2\n",
    "for m in range(int(sample_num/3)):\n",
    "    baseline_sam.append(sampleID[b])\n",
    "    week6_sam.append(sampleID[s])\n",
    "    week12_sam.append(sampleID[t])\n",
    "    b = b + 3\n",
    "    s = s + 3\n",
    "    t = t + 3"
   ]
  },
  {
   "cell_type": "code",
   "execution_count": null,
   "metadata": {},
   "outputs": [],
   "source": []
  },
  {
   "cell_type": "code",
   "execution_count": null,
   "metadata": {},
   "outputs": [],
   "source": []
  }
 ],
 "metadata": {
  "language_info": {
   "codemirror_mode": {
    "name": "ipython",
    "version": 3
   },
   "file_extension": ".py",
   "mimetype": "text/x-python",
   "name": "python",
   "nbconvert_exporter": "python",
   "pygments_lexer": "ipython3",
   "version": 3
  },
  "orig_nbformat": 2,
  "kernelspec": {
   "name": "python_defaultSpec_1594252432938",
   "display_name": "Python 3.7.7 64-bit ('PythonData': conda)"
  }
 },
 "nbformat": 4,
 "nbformat_minor": 2
}